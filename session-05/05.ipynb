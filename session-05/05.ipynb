{
 "cells": [
  {
   "cell_type": "code",
   "execution_count": null,
   "id": "3f7c6553",
   "metadata": {},
   "outputs": [
    {
     "name": "stdout",
     "output_type": "stream",
     "text": [
      "Real message: aaa\n",
      "Encrypted message: dea\n"
     ]
    }
   ],
   "source": [
    "# aa\n",
    "def encryption(message: str, shift: int=3):\n",
    "    \n",
    "    \n",
    "    \n",
    "    alphabets = 'abcde'\n",
    "    encrypted_message = ''\n",
    "    \n",
    "    for letter in message:\n",
    "        \n",
    "        if letter == ' ':\n",
    "            encrypted_message += ' '\n",
    "            continue\n",
    "        \n",
    "        current_letter_index = alphabets.index(letter)\n",
    "        encrypted_letter_index = (current_letter_index + shift) % len(alphabets)\n",
    "        encrypted_message += alphabets[encrypted_letter_index]\n",
    "        shift += 1\n",
    "    \n",
    "    return encrypted_message\n",
    "\n",
    "real_msg = 'add eac'\n",
    "shift = 3\n",
    "print('Real message:', real_msg)\n",
    "print('Encrypted message:', encryption(real_msg))\n",
    "\n",
    "        \n",
    "    "
   ]
  },
  {
   "cell_type": "code",
   "execution_count": 9,
   "id": "cda8fc4e",
   "metadata": {},
   "outputs": [
    {
     "data": {
      "text/plain": [
       "2"
      ]
     },
     "execution_count": 9,
     "metadata": {},
     "output_type": "execute_result"
    }
   ],
   "source": [
    "mystr = 'abcdeaa'\n",
    "mystr.index('c', 2)"
   ]
  },
  {
   "cell_type": "code",
   "execution_count": null,
   "id": "889ad63c",
   "metadata": {},
   "outputs": [],
   "source": []
  }
 ],
 "metadata": {
  "kernelspec": {
   "display_name": ".venv",
   "language": "python",
   "name": "python3"
  },
  "language_info": {
   "codemirror_mode": {
    "name": "ipython",
    "version": 3
   },
   "file_extension": ".py",
   "mimetype": "text/x-python",
   "name": "python",
   "nbconvert_exporter": "python",
   "pygments_lexer": "ipython3",
   "version": "3.12.3"
  }
 },
 "nbformat": 4,
 "nbformat_minor": 5
}
