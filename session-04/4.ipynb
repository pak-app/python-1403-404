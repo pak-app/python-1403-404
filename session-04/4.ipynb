{
 "cells": [
  {
   "cell_type": "code",
   "execution_count": 19,
   "id": "4074ebdf",
   "metadata": {},
   "outputs": [],
   "source": [
    "l = [1, 2, 3, 4, 5]\n",
    "l[:4]\n",
    "import time\n",
    "my_word = 'abcdefghijklmnopqrst'\n",
    "iterations = 1_000_000"
   ]
  },
  {
   "cell_type": "code",
   "execution_count": 22,
   "id": "59d44d02",
   "metadata": {},
   "outputs": [
    {
     "name": "stdout",
     "output_type": "stream",
     "text": [
      "Result: abcdefghijklmnopqrst\n",
      "Exec time: 3.6268234252929687e-06\n"
     ]
    }
   ],
   "source": [
    "# abcd -> 1 shift -> bcda\n",
    "# abcd -> 2 shift -> cdab\n",
    "def shift_word(word: str, shift: int) -> str:\n",
    "    \n",
    "    for i in range(shift % len(word)):\n",
    "        # print('select from index 1:', word[1: ])\n",
    "        # print('index 0:', word[0])\n",
    "        word = word[1: ] + word[0]\n",
    "        \n",
    "    return word\n",
    "\n",
    "start_time = time.time()\n",
    "print('Result:', shift_word(my_word, iterations))\n",
    "end_time = time.time()\n",
    "print('Exec time:', (end_time - start_time)/1000)"
   ]
  },
  {
   "cell_type": "code",
   "execution_count": 21,
   "id": "1498bcea",
   "metadata": {},
   "outputs": [
    {
     "name": "stdout",
     "output_type": "stream",
     "text": [
      "Result: abcdefghijklmnopqrst\n",
      "Exec time: 0.0\n"
     ]
    }
   ],
   "source": [
    "# abcd -> 1 shift -> bcda\n",
    "# abcd -> 2 shift -> cdab\n",
    "# abcd -> 3 shift -> dabc\n",
    "# abcd -> 4 shift -> abcd\n",
    "\n",
    "def shift_word_2(word: str, shift: int) -> str:\n",
    "    return word[shift % len(word):] + word[:shift % len(word)]\n",
    "\n",
    "start_time = time.time()\n",
    "print('Result:', shift_word_2(my_word, iterations))\n",
    "end_time = time.time()\n",
    "print('Exec time:', (end_time - start_time)/1000)"
   ]
  },
  {
   "cell_type": "code",
   "execution_count": null,
   "id": "d325892b",
   "metadata": {},
   "outputs": [],
   "source": []
  }
 ],
 "metadata": {
  "kernelspec": {
   "display_name": ".venv",
   "language": "python",
   "name": "python3"
  },
  "language_info": {
   "codemirror_mode": {
    "name": "ipython",
    "version": 3
   },
   "file_extension": ".py",
   "mimetype": "text/x-python",
   "name": "python",
   "nbconvert_exporter": "python",
   "pygments_lexer": "ipython3",
   "version": "3.11.5"
  }
 },
 "nbformat": 4,
 "nbformat_minor": 5
}
